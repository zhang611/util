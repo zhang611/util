{
 "cells": [
  {
   "cell_type": "code",
   "execution_count": null,
   "metadata": {},
   "outputs": [
    {
     "name": "stdout",
     "output_type": "stream",
     "text": [
      "原始网格的顶点数: 13826, 面数: 27648\n",
      "简化后网格的顶点数: 502, 面数: 1000\n",
      "显示原始网格...\n",
      "显示简化后的网格...\n",
      "简化后的网格已保存到: simplified_mesh.obj\n"
     ]
    }
   ],
   "source": [
    "import open3d as o3d\n",
    "\n",
    "# 读取网格文件\n",
    "input_file = \"1.obj\"\n",
    "mesh = o3d.io.read_triangle_mesh(input_file)\n",
    "print(f\"原始网格的顶点数: {len(mesh.vertices)}, 面数: {len(mesh.triangles)}\")\n",
    "\n",
    "# QEM 网格简化\n",
    "target_triangle_count = 1000\n",
    "simplified_mesh = mesh.simplify_quadric_decimation(target_number_of_triangles=target_triangle_count)\n",
    "print(f\"简化后网格的顶点数: {len(simplified_mesh.vertices)}, 面数: {len(simplified_mesh.triangles)}\")\n",
    "\n",
    "# 可视化\n",
    "# print(\"显示原始网格...\")\n",
    "# o3d.visualization.draw_geometries([mesh], window_name=\"原始网格\")\n",
    "# print(\"显示简化后的网格...\")\n",
    "# o3d.visualization.draw_geometries([simplified_mesh], window_name=\"简化网格\")\n",
    "\n",
    "# 保存\n",
    "output_file = \"simplified_mesh.obj\"\n",
    "o3d.io.write_triangle_mesh(output_file, simplified_mesh)\n",
    "print(f\"简化后的网格已保存到: {output_file}\")\n"
   ]
  }
 ],
 "metadata": {
  "kernelspec": {
   "display_name": "util",
   "language": "python",
   "name": "python3"
  },
  "language_info": {
   "codemirror_mode": {
    "name": "ipython",
    "version": 3
   },
   "file_extension": ".py",
   "mimetype": "text/x-python",
   "name": "python",
   "nbconvert_exporter": "python",
   "pygments_lexer": "ipython3",
   "version": "3.13.1"
  }
 },
 "nbformat": 4,
 "nbformat_minor": 2
}
