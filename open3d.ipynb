{
 "cells": [
  {
   "cell_type": "code",
   "execution_count": null,
   "metadata": {},
   "outputs": [
    {
     "name": "stdout",
     "output_type": "stream",
     "text": [
      "原始网格的顶点数: 13826, 面数: 27648\n",
      "简化后网格的顶点数: 502, 面数: 1000\n",
      "显示原始网格...\n",
      "显示简化后的网格...\n",
      "简化后的网格已保存到: simplified_mesh.obj\n"
     ]
    }
   ],
   "source": [
    "import open3d as o3d\n",
    "\n",
    "# 读取网格文件\n",
    "input_file = \"1.obj\"\n",
    "mesh = o3d.io.read_triangle_mesh(input_file)\n",
    "print(f\"原始网格的顶点数: {len(mesh.vertices)}, 面数: {len(mesh.triangles)}\")\n",
    "\n",
    "# QEM 网格简化\n",
    "target_triangle_count = 1000\n",
    "simplified_mesh = mesh.simplify_quadric_decimation(target_number_of_triangles=target_triangle_count)\n",
    "print(f\"简化后网格的顶点数: {len(simplified_mesh.vertices)}, 面数: {len(simplified_mesh.triangles)}\")\n",
    "\n",
    "# 可视化\n",
    "# print(\"显示原始网格...\")\n",
    "# o3d.visualization.draw_geometries([mesh], window_name=\"原始网格\")\n",
    "# print(\"显示简化后的网格...\")\n",
    "# o3d.visualization.draw_geometries([simplified_mesh], window_name=\"简化网格\")\n",
    "\n",
    "# 保存\n",
    "output_file = \"simplified_mesh.obj\"\n",
    "o3d.io.write_triangle_mesh(output_file, simplified_mesh)\n",
    "print(f\"简化后的网格已保存到: {output_file}\")\n"
   ]
  },
  {
   "cell_type": "code",
   "execution_count": 2,
   "metadata": {},
   "outputs": [
    {
     "name": "stdout",
     "output_type": "stream",
     "text": [
      "PointCloud with 1081843 points.\n",
      "Point cloud has 1081843 points.\n"
     ]
    }
   ],
   "source": [
    "#可视化pcd\n",
    "import open3d as o3d\n",
    "\n",
    "# 加载 PCD 文件\n",
    "pcd = o3d.io.read_point_cloud(r\"C:\\Users\\zzc\\Desktop\\map.pcd\")  # 替换为你的 PCD 文件路径\n",
    "\n",
    "# 打印点云的信息（可选）\n",
    "print(pcd)\n",
    "print(\"Point cloud has\", len(pcd.points), \"points.\")\n",
    "\n",
    "# 可视化点云\n",
    "o3d.visualization.draw_geometries([pcd],\n",
    "                                  window_name=\"PCD Viewer\",\n",
    "                                  width=800, height=600,\n",
    "                                  left=50, top=50,\n",
    "                                  point_show_normal=False)\n"
   ]
  }
 ],
 "metadata": {
  "kernelspec": {
   "display_name": "util",
   "language": "python",
   "name": "python3"
  },
  "language_info": {
   "codemirror_mode": {
    "name": "ipython",
    "version": 3
   },
   "file_extension": ".py",
   "mimetype": "text/x-python",
   "name": "python",
   "nbconvert_exporter": "python",
   "pygments_lexer": "ipython3",
   "version": "3.13.1"
  }
 },
 "nbformat": 4,
 "nbformat_minor": 2
}
