{
 "cells": [
  {
   "cell_type": "code",
   "execution_count": null,
   "metadata": {
    "vscode": {
     "languageId": "plaintext"
    }
   },
   "outputs": [],
   "source": [
    "import torch\n",
    "import torch.nn as nn\n",
    "\n",
    "class TransformerModel(nn.Module):\n",
    "    def __init__(self, vocab_size, d_model, nhead, num_encoder_layers, dim_feedforward, max_len=5000):\n",
    "        super(TransformerModel, self).__init__()\n",
    "        self.embedding = nn.Embedding(vocab_size, d_model)\n",
    "        self.positional_encoding = nn.Parameter(torch.zeros(1, max_len, d_model))\n",
    "        self.transformer_encoder = nn.TransformerEncoder(\n",
    "            nn.TransformerEncoderLayer(d_model=d_model, nhead=nhead, dim_feedforward=dim_feedforward),\n",
    "            num_layers=num_encoder_layers\n",
    "        )\n",
    "        self.decoder = nn.Linear(d_model, vocab_size)\n",
    "    \n",
    "    def forward(self, src):\n",
    "        embedded = self.embedding(src) + self.positional_encoding[:, :src.size(0), :]\n",
    "        output = self.transformer_encoder(embedded)\n",
    "        output = self.decoder(output)\n",
    "        return output\n",
    "\n",
    "# 参数设置\n",
    "vocab_size = 10000\n",
    "d_model = 512\n",
    "nhead = 8\n",
    "num_encoder_layers = 6\n",
    "dim_feedforward = 2048\n",
    "\n",
    "# 初始化模型\n",
    "model = TransformerModel(vocab_size, d_model, nhead, num_encoder_layers, dim_feedforward)\n",
    "\n",
    "# 输入示例\n",
    "src = torch.randint(0, vocab_size, (30, 64))  # (seq_len, batch_size)\n",
    "output = model(src)\n",
    "print(output.shape)  # 输出: torch.Size([30, 64, 10000])"
   ]
  }
 ],
 "metadata": {
  "language_info": {
   "name": "python"
  }
 },
 "nbformat": 4,
 "nbformat_minor": 2
}
