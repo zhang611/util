{
 "cells": [
  {
   "cell_type": "markdown",
   "metadata": {},
   "source": [
    "# 同一重命名"
   ]
  },
  {
   "cell_type": "code",
   "execution_count": null,
   "metadata": {},
   "outputs": [],
   "source": [
    "import os\n",
    "\n",
    "folder_path = 'path/to/your/folder'\n",
    "files = os.listdir(folder_path)\n",
    "\n",
    "# 过滤出图片文件（假设图片是jpg格式，按需修改）\n",
    "image_files = [f for f in files if f.lower().endswith('.jpg')]\n",
    "image_files.sort()\n",
    "\n",
    "for i, file in enumerate(image_files, start=1):\n",
    "    # 生成新的文件名，格式为 0001, 0002, ..., 0080\n",
    "    new_name = f\"{i:04d}.jpg\"  # 4位数字格式\n",
    "    old_path = os.path.join(folder_path, file)\n",
    "    new_path = os.path.join(folder_path, new_name)\n",
    "    os.rename(old_path, new_path)\n",
    "    print(f'Renamed \"{file}\" to \"{new_name}\"')\n",
    "\n",
    "print(\"Renaming complete.\")\n"
   ]
  }
 ],
 "metadata": {
  "language_info": {
   "name": "python"
  }
 },
 "nbformat": 4,
 "nbformat_minor": 2
}
