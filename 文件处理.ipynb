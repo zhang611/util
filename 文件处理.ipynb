{
 "cells": [
  {
   "cell_type": "markdown",
   "metadata": {},
   "source": [
    "# 同一重命名"
   ]
  },
  {
   "cell_type": "code",
   "execution_count": null,
   "metadata": {},
   "outputs": [],
   "source": [
    "import os\n",
    "\n",
    "folder_path = 'path/to/your/folder'\n",
    "files = os.listdir(folder_path)\n",
    "\n",
    "# 过滤出图片文件（假设图片是jpg格式，按需修改）\n",
    "image_files = [f for f in files if f.lower().endswith('.jpg')]\n",
    "image_files.sort()\n",
    "\n",
    "for i, file in enumerate(image_files, start=1):\n",
    "    # 生成新的文件名，格式为 0001, 0002, ..., 0080\n",
    "    new_name = f\"{i:04d}.jpg\"  # 4位数字格式\n",
    "    old_path = os.path.join(folder_path, file)\n",
    "    new_path = os.path.join(folder_path, new_name)\n",
    "    os.rename(old_path, new_path)\n",
    "    print(f'Renamed \"{file}\" to \"{new_name}\"')\n",
    "\n",
    "print(\"Renaming complete.\")\n"
   ]
  },
  {
   "cell_type": "markdown",
   "metadata": {},
   "source": [
    "# 图片合成pdf"
   ]
  },
  {
   "cell_type": "code",
   "execution_count": 1,
   "metadata": {},
   "outputs": [],
   "source": [
    "from PIL import Image\n",
    "import os\n",
    "\n",
    "def convert_images_to_pdf(image_folder, output_pdf_file):\n",
    "    # 获取图片文件列表（假设图片格式为JPG或PNG）\n",
    "    image_files = [f for f in os.listdir(image_folder) if f.endswith(('.jpg', '.jpeg', '.png'))]\n",
    "    \n",
    "    # 确保按文件名排序，以确保图片顺序\n",
    "    image_files.sort()\n",
    "\n",
    "    # 打开所有图片，并将其转换为RGB模式\n",
    "    images = [Image.open(os.path.join(image_folder, file)).convert('RGB') for file in image_files]\n",
    "\n",
    "    # 使用Pillow中的save方法，保存为PDF\n",
    "    if images:\n",
    "        images[0].save(output_pdf_file, save_all=True, append_images=images[1:])\n",
    "    else:\n",
    "        print(\"没有找到图片文件，请检查文件夹路径或文件格式。\")\n",
    "\n",
    "# 使用函数，将图片文件夹中的图片合并为PDF\n",
    "# image_folder = r'C:\\Users\\zzc\\Desktop\\data'\n",
    "image_folder = r'C:\\Users\\zzc\\Desktop\\demo'\n",
    "output_pdf_file = 'output.pdf'\n",
    "convert_images_to_pdf(image_folder, output_pdf_file)"
   ]
  },
  {
   "cell_type": "markdown",
   "metadata": {},
   "source": [
    "# 一张图片转PDF"
   ]
  },
  {
   "cell_type": "code",
   "execution_count": 1,
   "metadata": {},
   "outputs": [
    {
     "name": "stdout",
     "output_type": "stream",
     "text": [
      "PDF 已保存为 output.pdf\n"
     ]
    }
   ],
   "source": [
    "from PIL import Image\n",
    "\n",
    "# 打开图片\n",
    "image_path = \"1.jpg\"  # 替换为你的图片路径\n",
    "image = Image.open(image_path)\n",
    "\n",
    "# 将图片转换为 PDF\n",
    "pdf_path = \"output.pdf\"\n",
    "image.convert(\"RGB\").save(pdf_path)\n",
    "\n",
    "print(f\"PDF 已保存为 {pdf_path}\")\n",
    "\n"
   ]
  },
  {
   "cell_type": "code",
   "execution_count": null,
   "metadata": {},
   "outputs": [
    {
     "name": "stdout",
     "output_type": "stream",
     "text": [
      "Page 1 saved as page_1.png\n",
      "Page 2 saved as page_2.png\n"
     ]
    }
   ],
   "source": [
    "# pdf转图片\n",
    "from pdf2image import convert_from_path\n",
    "from PIL import Image\n",
    "\n",
    "# 输入PDF文件路径\n",
    "pdf_path = r'C:\\Users\\zzc\\Desktop\\util\\resume.pdf'\n",
    "\n",
    "# 将PDF转换为图片（每一页作为一个单独的图片）\n",
    "pages = convert_from_path(pdf_path, 300)  # 300是DPI（每英寸点数），可以根据需求调整\n",
    "\n",
    "# 保存每一页为图像文件\n",
    "for i, page in enumerate(pages):\n",
    "    image_path = f'page_{i + 1}.png'  # 可以改为其他格式如 .jpg\n",
    "    page.save(image_path, 'PNG')  # 保存为PNG格式\n",
    "    print(f'Page {i + 1} saved as {image_path}')\n"
   ]
  }
 ],
 "metadata": {
  "kernelspec": {
   "display_name": "util",
   "language": "python",
   "name": "python3"
  },
  "language_info": {
   "codemirror_mode": {
    "name": "ipython",
    "version": 3
   },
   "file_extension": ".py",
   "mimetype": "text/x-python",
   "name": "python",
   "nbconvert_exporter": "python",
   "pygments_lexer": "ipython3",
   "version": "3.13.1"
  }
 },
 "nbformat": 4,
 "nbformat_minor": 2
}
