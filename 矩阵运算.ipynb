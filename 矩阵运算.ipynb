{
 "cells": [
  {
   "cell_type": "code",
   "execution_count": 7,
   "metadata": {},
   "outputs": [
    {
     "name": "stdout",
     "output_type": "stream",
     "text": [
      "[[0.         0.         0.         0.70710678]\n",
      " [0.         0.         0.         3.53553391]\n",
      " [0.         0.         0.         0.        ]\n",
      " [0.         0.         0.         1.        ]]\n"
     ]
    }
   ],
   "source": [
    "import numpy as np\n",
    "\n",
    "p = [[0, 0, 0, 1],\n",
    "     [0, 0, 0, 0],\n",
    "     [0, 0, 0, 0],\n",
    "     [0, 0, 0, 1]]\n",
    "\n",
    "# 平移\n",
    "a = [[1, 0, 0, 2],\n",
    "     [0, 1, 0, 2],\n",
    "     [0, 0, 1, 2],\n",
    "     [0, 0, 0, 1]]\n",
    "\n",
    "# 旋转\n",
    "theta = np.pi / 4\n",
    "b = [[np.cos(theta), -np.sin(theta), 0, 0],\n",
    "     [np.sin(theta), np.cos(theta), 0, 0],\n",
    "     [0, 0, 0, 0],\n",
    "     [0, 0, 0, 1]]\n",
    "\n",
    "c = np.dot(a, p)\n",
    "c = np.dot(b, c)\n",
    "print(c)"
   ]
  }
 ],
 "metadata": {
  "kernelspec": {
   "display_name": "util",
   "language": "python",
   "name": "python3"
  },
  "language_info": {
   "codemirror_mode": {
    "name": "ipython",
    "version": 3
   },
   "file_extension": ".py",
   "mimetype": "text/x-python",
   "name": "python",
   "nbconvert_exporter": "python",
   "pygments_lexer": "ipython3",
   "version": "3.13.1"
  }
 },
 "nbformat": 4,
 "nbformat_minor": 2
}
